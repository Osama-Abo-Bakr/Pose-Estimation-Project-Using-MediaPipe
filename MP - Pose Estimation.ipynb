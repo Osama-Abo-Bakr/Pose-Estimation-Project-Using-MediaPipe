{
 "cells": [
  {
   "cell_type": "code",
   "execution_count": 1,
   "id": "a1a25433",
   "metadata": {},
   "outputs": [],
   "source": [
    "import numpy as np\n",
    "import mediapipe as mp\n",
    "import cv2"
   ]
  },
  {
   "cell_type": "code",
   "execution_count": 2,
   "id": "c3e99cc6",
   "metadata": {},
   "outputs": [],
   "source": [
    "video = cv2.VideoCapture(0)\n",
    "\n",
    "mp_pose = mp.solutions.pose\n",
    "mp_draw = mp.solutions.drawing_utils\n",
    "pose = mp_pose.Pose()"
   ]
  },
  {
   "cell_type": "code",
   "execution_count": 3,
   "id": "98849309",
   "metadata": {},
   "outputs": [
    {
     "name": "stderr",
     "output_type": "stream",
     "text": [
      "C:\\Users\\osama\\anaconda3\\lib\\site-packages\\google\\protobuf\\symbol_database.py:55: UserWarning: SymbolDatabase.GetPrototype() is deprecated. Please use message_factory.GetMessageClass() instead. SymbolDatabase.GetPrototype() will be removed soon.\n",
      "  warnings.warn('SymbolDatabase.GetPrototype() is deprecated. Please '\n"
     ]
    }
   ],
   "source": [
    "while True:\n",
    "    _, frame = video.read()\n",
    "\n",
    "\n",
    "    frame = cv2.resize(frame, (600, 600))\n",
    "    result = pose.process(frame)\n",
    "\n",
    "    mp_draw.draw_landmarks(frame, result.pose_landmarks, mp_pose.POSE_CONNECTIONS,\n",
    "                           mp_draw.DrawingSpec((255, 0, 0), 2, 2),\n",
    "                           mp_draw.DrawingSpec((255, 50, 255), 2, 2)\n",
    "                           )\n",
    "    cv2.imshow(\"image\", frame)\n",
    "\n",
    "    x, y, z = frame.shape\n",
    "    new_wind = np.zeros([x, y, z])\n",
    "    new_wind.fill(0)\n",
    "\n",
    "    mp_draw.draw_landmarks(new_wind, result.pose_landmarks, mp_pose.POSE_CONNECTIONS,\n",
    "                           mp_draw.DrawingSpec((255, 0, 0), 2, 2),\n",
    "                           mp_draw.DrawingSpec((255, 0, 255), 2, 2)\n",
    "                           )\n",
    "\n",
    "    cv2.imshow(\"new_window\", new_wind)\n",
    "    if cv2.waitKey(1) & 0xff == ord(\"o\"): break\n",
    "\n",
    "cv2.destroyAllWindows()\n",
    "video.release()"
   ]
  },
  {
   "cell_type": "code",
   "execution_count": null,
   "id": "4a10eede",
   "metadata": {},
   "outputs": [],
   "source": []
  }
 ],
 "metadata": {
  "kernelspec": {
   "display_name": "Python 3 (ipykernel)",
   "language": "python",
   "name": "python3"
  },
  "language_info": {
   "codemirror_mode": {
    "name": "ipython",
    "version": 3
   },
   "file_extension": ".py",
   "mimetype": "text/x-python",
   "name": "python",
   "nbconvert_exporter": "python",
   "pygments_lexer": "ipython3",
   "version": "3.10.9"
  }
 },
 "nbformat": 4,
 "nbformat_minor": 5
}
